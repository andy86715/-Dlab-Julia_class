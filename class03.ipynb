{
 "cells": [
  {
   "cell_type": "code",
   "execution_count": 2,
   "metadata": {
    "collapsed": false
   },
   "outputs": [],
   "source": [
    "#造棋盤\n",
    "struct ChessBoard\n",
    "    board::Matrix\n",
    "end"
   ]
  },
  {
   "cell_type": "code",
   "execution_count": 6,
   "metadata": {
    "collapsed": false
   },
   "outputs": [
    {
     "data": {
      "text/plain": [
       "2×3 Array{Int64,2}:\n",
       " 1  2  3\n",
       " 4  5  6"
      ]
     },
     "execution_count": 6,
     "metadata": {},
     "output_type": "execute_result"
    }
   ],
   "source": [
    "A = [1 2 3;\n",
    "    4 5 6]"
   ]
  },
  {
   "cell_type": "code",
   "execution_count": 7,
   "metadata": {
    "collapsed": false
   },
   "outputs": [
    {
     "data": {
      "text/plain": [
       "ChessBoard([1 2 3; 4 5 6])"
      ]
     },
     "execution_count": 7,
     "metadata": {},
     "output_type": "execute_result"
    }
   ],
   "source": [
    "cb = ChessBoard(A)"
   ]
  },
  {
   "cell_type": "code",
   "execution_count": 8,
   "metadata": {
    "collapsed": false
   },
   "outputs": [
    {
     "data": {
      "text/plain": [
       "2×3 Array{Int64,2}:\n",
       " 1  2  3\n",
       " 4  5  6"
      ]
     },
     "execution_count": 8,
     "metadata": {},
     "output_type": "execute_result"
    }
   ],
   "source": [
    "#呼叫\n",
    "cb.board"
   ]
  },
  {
   "cell_type": "code",
   "execution_count": 12,
   "metadata": {
    "collapsed": false
   },
   "outputs": [
    {
     "data": {
      "text/plain": [
       "3"
      ]
     },
     "execution_count": 12,
     "metadata": {},
     "output_type": "execute_result"
    }
   ],
   "source": [
    "cb.board[1,3]"
   ]
  },
  {
   "cell_type": "code",
   "execution_count": 13,
   "metadata": {
    "collapsed": true
   },
   "outputs": [],
   "source": [
    "#位置\n",
    "struct Position\n",
    "x\n",
    "y\n",
    "end"
   ]
  },
  {
   "cell_type": "code",
   "execution_count": 14,
   "metadata": {
    "collapsed": false
   },
   "outputs": [
    {
     "data": {
      "text/plain": [
       "Position(3, 4)"
      ]
     },
     "execution_count": 14,
     "metadata": {},
     "output_type": "execute_result"
    }
   ],
   "source": [
    "p = Position(3,4)"
   ]
  },
  {
   "cell_type": "code",
   "execution_count": 16,
   "metadata": {
    "collapsed": false
   },
   "outputs": [
    {
     "data": {
      "text/plain": [
       "8×8 BitArray{2}:\n",
       " true  true  true  true  true  true  true  true\n",
       " true  true  true  true  true  true  true  true\n",
       " true  true  true  true  true  true  true  true\n",
       " true  true  true  true  true  true  true  true\n",
       " true  true  true  true  true  true  true  true\n",
       " true  true  true  true  true  true  true  true\n",
       " true  true  true  true  true  true  true  true\n",
       " true  true  true  true  true  true  true  true"
      ]
     },
     "execution_count": 16,
     "metadata": {},
     "output_type": "execute_result"
    }
   ],
   "source": [
    "#確認位置能不能放\n",
    "B = trues(8,8)"
   ]
  },
  {
   "cell_type": "code",
   "execution_count": 17,
   "metadata": {
    "collapsed": true
   },
   "outputs": [],
   "source": [
    "#可變動的棋盤\n",
    "mutable struct ChessBoard2\n",
    "    board::Matrix\n",
    "end"
   ]
  },
  {
   "cell_type": "code",
   "execution_count": 18,
   "metadata": {
    "collapsed": false
   },
   "outputs": [
    {
     "data": {
      "text/plain": [
       "ChessBoard2([1 2 3; 4 5 6])"
      ]
     },
     "execution_count": 18,
     "metadata": {},
     "output_type": "execute_result"
    }
   ],
   "source": [
    "cb2 = ChessBoard2(A)"
   ]
  },
  {
   "cell_type": "code",
   "execution_count": 19,
   "metadata": {
    "collapsed": false
   },
   "outputs": [
    {
     "data": {
      "text/plain": [
       "8×8 BitArray{2}:\n",
       " true  true  true  true  true  true  true  true\n",
       " true  true  true  true  true  true  true  true\n",
       " true  true  true  true  true  true  true  true\n",
       " true  true  true  true  true  true  true  true\n",
       " true  true  true  true  true  true  true  true\n",
       " true  true  true  true  true  true  true  true\n",
       " true  true  true  true  true  true  true  true\n",
       " true  true  true  true  true  true  true  true"
      ]
     },
     "execution_count": 19,
     "metadata": {},
     "output_type": "execute_result"
    }
   ],
   "source": [
    "cb2.board = B"
   ]
  },
  {
   "cell_type": "code",
   "execution_count": 20,
   "metadata": {
    "collapsed": true
   },
   "outputs": [],
   "source": [
    "#宣告我要幾x幾的棋盤\n",
    "struct ChessBoard\n",
    "    board::Matrix\n",
    "    ChessBoard(m,n) = new(trues(m,n))\n",
    "end"
   ]
  },
  {
   "cell_type": "code",
   "execution_count": 21,
   "metadata": {
    "collapsed": false
   },
   "outputs": [
    {
     "data": {
      "text/plain": [
       "ChessBoard(Bool[true true … true true; true true … true true; … ; true true … true true; true true … true true])"
      ]
     },
     "execution_count": 21,
     "metadata": {},
     "output_type": "execute_result"
    }
   ],
   "source": [
    "cb = ChessBoard(8,8) #8,8丟到後面的trues"
   ]
  },
  {
   "cell_type": "code",
   "execution_count": 23,
   "metadata": {
    "collapsed": false
   },
   "outputs": [
    {
     "data": {
      "text/plain": [
       "8×8 Array{Bool,2}:\n",
       " true  true  true  true  true  true  true  true\n",
       " true  true  true  true  true  true  true  true\n",
       " true  true  true  true  true  true  true  true\n",
       " true  true  true  true  true  true  true  true\n",
       " true  true  true  true  true  true  true  true\n",
       " true  true  true  true  true  true  true  true\n",
       " true  true  true  true  true  true  true  true\n",
       " true  true  true  true  true  true  true  true"
      ]
     },
     "execution_count": 23,
     "metadata": {},
     "output_type": "execute_result"
    }
   ],
   "source": [
    "cb.board"
   ]
  },
  {
   "cell_type": "code",
   "execution_count": 28,
   "metadata": {
    "collapsed": false
   },
   "outputs": [
    {
     "data": {
      "text/plain": [
       "8×8 Array{Int64,2}:\n",
       " 4626268480           0           0  …           0  4626268608  4626268224\n",
       " 4908161840           0           0              0  4626268800  4908067376\n",
       "          0           0  4626268416              0           0  4884574464\n",
       "          0           0  4908157264              0           0  4907787344\n",
       " 4626268736  4626268864  4626269120     4626251792           0           0\n",
       " 4908062736  4907786384  4908070224  …           0           0           0\n",
       "          0  4626268800  4626268992     4626268352           0           0\n",
       "          0  4908062800  4908070064     4907786960           0           0"
      ]
     },
     "execution_count": 28,
     "metadata": {},
     "output_type": "execute_result"
    }
   ],
   "source": [
    "Matrix{Int64}(8,8)"
   ]
  },
  {
   "cell_type": "code",
   "execution_count": 32,
   "metadata": {
    "collapsed": false
   },
   "outputs": [],
   "source": [
    "#宣告要什麼類別\n",
    "struct ChessBoard3{T}\n",
    "    board::Matrix{T}\n",
    "    ChessBoard3{T}(m,n) where T = new(zeros(T,m,n))\n",
    "end"
   ]
  },
  {
   "cell_type": "code",
   "execution_count": 33,
   "metadata": {
    "collapsed": false
   },
   "outputs": [
    {
     "data": {
      "text/plain": [
       "ChessBoard3{Bool}(Bool[false false … false false; false false … false false; … ; false false … false false; false false … false false])"
      ]
     },
     "execution_count": 33,
     "metadata": {},
     "output_type": "execute_result"
    }
   ],
   "source": [
    "cb3 = ChessBoard3{Bool}(8, 8)"
   ]
  },
  {
   "cell_type": "code",
   "execution_count": 34,
   "metadata": {
    "collapsed": true
   },
   "outputs": [],
   "source": [
    "struct ChessBoard4\n",
    "    board::Matrix{Bool}\n",
    "    ChessBoard4(n) = new(trues(n, n))\n",
    "end"
   ]
  },
  {
   "cell_type": "code",
   "execution_count": 35,
   "metadata": {
    "collapsed": false
   },
   "outputs": [
    {
     "data": {
      "text/plain": [
       "check (generic function with 1 method)"
      ]
     },
     "execution_count": 35,
     "metadata": {},
     "output_type": "execute_result"
    }
   ],
   "source": [
    "check(cb::ChessBoard4, x, y) = cb.board[x, y]"
   ]
  },
  {
   "cell_type": "code",
   "execution_count": 36,
   "metadata": {
    "collapsed": false
   },
   "outputs": [
    {
     "data": {
      "text/plain": [
       "place! (generic function with 1 method)"
      ]
     },
     "execution_count": 36,
     "metadata": {},
     "output_type": "execute_result"
    }
   ],
   "source": [
    "function place!(cb::ChessBoard4, x, y)\n",
    "    cb.board[x, :] = false #橫的都填false\n",
    "    cb.board[:, y] = false #直的都填false\n",
    "    cb\n",
    "end"
   ]
  },
  {
   "cell_type": "code",
   "execution_count": 37,
   "metadata": {
    "collapsed": false
   },
   "outputs": [
    {
     "data": {
      "text/plain": [
       "ChessBoard4(Bool[true true … true true; true true … true true; … ; true true … true true; true true … true true])"
      ]
     },
     "execution_count": 37,
     "metadata": {},
     "output_type": "execute_result"
    }
   ],
   "source": [
    "cb = ChessBoard4(8)"
   ]
  },
  {
   "cell_type": "code",
   "execution_count": 38,
   "metadata": {
    "collapsed": false
   },
   "outputs": [
    {
     "data": {
      "text/plain": [
       "ChessBoard4(Bool[true true … true true; true true … true true; … ; true true … true true; true true … true true])"
      ]
     },
     "execution_count": 38,
     "metadata": {},
     "output_type": "execute_result"
    }
   ],
   "source": [
    "place!(cb,3,4) #位置放在(3,4)"
   ]
  },
  {
   "cell_type": "code",
   "execution_count": 39,
   "metadata": {
    "collapsed": false
   },
   "outputs": [
    {
     "data": {
      "text/plain": [
       "8×8 Array{Bool,2}:\n",
       "  true   true   true  false   true   true   true   true\n",
       "  true   true   true  false   true   true   true   true\n",
       " false  false  false  false  false  false  false  false\n",
       "  true   true   true  false   true   true   true   true\n",
       "  true   true   true  false   true   true   true   true\n",
       "  true   true   true  false   true   true   true   true\n",
       "  true   true   true  false   true   true   true   true\n",
       "  true   true   true  false   true   true   true   true"
      ]
     },
     "execution_count": 39,
     "metadata": {},
     "output_type": "execute_result"
    }
   ],
   "source": [
    "cb.board"
   ]
  },
  {
   "cell_type": "code",
   "execution_count": 40,
   "metadata": {
    "collapsed": false
   },
   "outputs": [
    {
     "data": {
      "text/plain": [
       "place! (generic function with 1 method)"
      ]
     },
     "execution_count": 40,
     "metadata": {},
     "output_type": "execute_result"
    }
   ],
   "source": [
    "function place!(cb::ChessBoard4, x, y)  # v2\n",
    "    cb.board[x, :] = false\n",
    "    cb.board[:, y] = false\n",
    "    for i in 1:8\n",
    "        #撞到邊界用取餘數來解\n",
    "        x1 = ((x+i) % 8 == 0)? 8 : (x+i) % 8\n",
    "        y1 = ((y+i) % 8 == 0)? 8 : (y+i) % 8\n",
    "        cb.board[x1, y1] = false\n",
    "        x2 = ((x-i+8) % 8 == 0)? 8 : (x-i+8) % 8\n",
    "        y2 = ((y+i) % 8 == 0)? 8 : (y+i) % 8\n",
    "        cb.board[x2, y2] = false\n",
    "    end\n",
    "    cb \n",
    "end"
   ]
  },
  {
   "cell_type": "code",
   "execution_count": 41,
   "metadata": {
    "collapsed": false
   },
   "outputs": [
    {
     "data": {
      "text/plain": [
       "8×8 Array{Bool,2}:\n",
       "  true  false   true  false   true  false   true   true\n",
       "  true   true  false  false  false   true   true   true\n",
       " false  false  false  false  false  false  false  false\n",
       "  true   true  false  false  false   true   true   true\n",
       "  true  false   true  false   true  false   true   true\n",
       " false   true   true  false   true   true  false   true\n",
       "  true   true   true  false   true   true   true  false\n",
       " false   true   true  false   true   true  false   true"
      ]
     },
     "execution_count": 41,
     "metadata": {},
     "output_type": "execute_result"
    }
   ],
   "source": [
    "#出現問題：邊界跳下一行\n",
    "cb = ChessBoard4(8)\n",
    "place!(cb, 3, 4)\n",
    "cb.board"
   ]
  },
  {
   "cell_type": "code",
   "execution_count": 43,
   "metadata": {
    "collapsed": false
   },
   "outputs": [
    {
     "data": {
      "text/plain": [
       "filter_accessory_positions (generic function with 1 method)"
      ]
     },
     "execution_count": 43,
     "metadata": {},
     "output_type": "execute_result"
    }
   ],
   "source": [
    "get_position(x) = ((x+8) % 8 == 0)? 8 : (x+8) % 8\n",
    "function filter_accessory_positions(pos)\n",
    "    skip = false\n",
    "    results = Tuple[]\n",
    "    for (x, y) in pos\n",
    "        if !skip\n",
    "            push!(results, (x, y))\n",
    "        end\n",
    "        if x == 8\n",
    "            skip = ~skip\n",
    "        end\n",
    "        if y == 8\n",
    "            skip = ~skip\n",
    "        end\n",
    "    end\n",
    "    return results\n",
    "end"
   ]
  },
  {
   "cell_type": "code",
   "execution_count": 44,
   "metadata": {
    "collapsed": false
   },
   "outputs": [
    {
     "data": {
      "text/plain": [
       "place! (generic function with 1 method)"
      ]
     },
     "execution_count": 44,
     "metadata": {},
     "output_type": "execute_result"
    }
   ],
   "source": [
    "function place!(cb::ChessBoard4, x, y)  # v3\n",
    "    cb.board[x, :] = false\n",
    "    cb.board[:, y] = false\n",
    "    pos = [(get_position(x+i), get_position(y+i)) for i in 1:8]\n",
    "    pos = filter_accessory_positions(pos)\n",
    "    for (x, y) in pos\n",
    "        cb.board[x, y] = false\n",
    "    end\n",
    "    pos = [(get_position(x-i), get_position(y+i)) for i in 1:8]\n",
    "    pos = filter_accessory_positions(pos)\n",
    "    for (x, y) in pos\n",
    "        cb.board[x, y] = false\n",
    "    end\n",
    "    cb \n",
    "end"
   ]
  },
  {
   "cell_type": "code",
   "execution_count": 45,
   "metadata": {
    "collapsed": false
   },
   "outputs": [
    {
     "data": {
      "text/plain": [
       "8×8 Array{Bool,2}:\n",
       "  true  false   true  false   true  false   true   true\n",
       "  true   true  false  false  false   true   true   true\n",
       " false  false  false  false  false  false  false  false\n",
       "  true   true  false  false  false   true   true   true\n",
       "  true  false   true  false   true  false   true   true\n",
       " false   true   true  false   true   true  false   true\n",
       "  true   true   true  false   true   true   true  false\n",
       "  true   true   true  false   true   true  false   true"
      ]
     },
     "execution_count": 45,
     "metadata": {},
     "output_type": "execute_result"
    }
   ],
   "source": [
    "cb = ChessBoard4(8)\n",
    "place!(cb, 3, 4)\n",
    "cb.board"
   ]
  },
  {
   "cell_type": "code",
   "execution_count": 46,
   "metadata": {
    "collapsed": true
   },
   "outputs": [],
   "source": [
    "#Abstruct type\n",
    "abstract type Animal end\n",
    "struct Dog <: Animal\n",
    "    name::String\n",
    "end\n",
    "struct Cat <: Animal\n",
    "    name::String\n",
    "end"
   ]
  },
  {
   "cell_type": "code",
   "execution_count": 47,
   "metadata": {
    "collapsed": false
   },
   "outputs": [
    {
     "data": {
      "text/plain": [
       "name (generic function with 1 method)"
      ]
     },
     "execution_count": 47,
     "metadata": {},
     "output_type": "execute_result"
    }
   ],
   "source": [
    "name(a::Animal) = println(\"My name is $(a.name)\")"
   ]
  },
  {
   "cell_type": "code",
   "execution_count": 48,
   "metadata": {
    "collapsed": false
   },
   "outputs": [
    {
     "data": {
      "text/plain": [
       "Dog(\"小黃\")"
      ]
     },
     "execution_count": 48,
     "metadata": {},
     "output_type": "execute_result"
    }
   ],
   "source": [
    "小黃 = Dog(\"小黃\")"
   ]
  },
  {
   "cell_type": "code",
   "execution_count": 49,
   "metadata": {
    "collapsed": false
   },
   "outputs": [
    {
     "name": "stdout",
     "output_type": "stream",
     "text": [
      "My name is 小黃\n"
     ]
    }
   ],
   "source": [
    "name(小黃)"
   ]
  },
  {
   "cell_type": "code",
   "execution_count": 50,
   "metadata": {
    "collapsed": false
   },
   "outputs": [
    {
     "data": {
      "text/plain": [
       "Animal"
      ]
     },
     "execution_count": 50,
     "metadata": {},
     "output_type": "execute_result"
    }
   ],
   "source": [
    "#定義的類別\n",
    "supertype(Dog)"
   ]
  },
  {
   "cell_type": "code",
   "execution_count": 53,
   "metadata": {
    "collapsed": false
   },
   "outputs": [
    {
     "data": {
      "text/plain": [
       "Any"
      ]
     },
     "execution_count": 53,
     "metadata": {},
     "output_type": "execute_result"
    }
   ],
   "source": [
    "supertype(Animal)"
   ]
  },
  {
   "cell_type": "code",
   "execution_count": null,
   "metadata": {
    "collapsed": true
   },
   "outputs": [],
   "source": []
  }
 ],
 "metadata": {
  "kernelspec": {
   "display_name": "Julia 0.6.2",
   "language": "julia",
   "name": "julia-0.6"
  },
  "language_info": {
   "file_extension": ".jl",
   "mimetype": "application/julia",
   "name": "julia",
   "version": "0.6.2"
  }
 },
 "nbformat": 4,
 "nbformat_minor": 2
}
